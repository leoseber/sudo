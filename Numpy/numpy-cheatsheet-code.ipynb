{
  "cells": [
    {
      "cell_type": "markdown",
      "metadata": {
        "id": "azMNJ4qi2ePr"
      },
      "source": [
        "# NumPy"
      ]
    },
    {
      "cell_type": "markdown",
      "metadata": {
        "id": "zbUPyAnV2ePw"
      },
      "source": [
        "<table align=\"left\">\n",
        "  <td>\n",
        "    <a target=\"_blank\" href=\"http://nbviewer.ipython.org/github/ShowMeAI-Hub/awesome-AI-cheatsheets/blob/main/Numpy/numpy-cheatsheet-code.ipynb\"><img src=\"https://raw.githubusercontent.com/jupyter/design/master/logos/Badges/nbviewer_badge.svg\" />在nbviewer上查看notebook</a>\n",
        "  </td>\n",
        "  <td>\n",
        "    <a target=\"_blank\" href=\"https://colab.research.google.com/github/ShowMeAI-Hub/awesome-AI-cheatsheets/blob/main/Numpy/numpy-cheatsheet-code.ipynb\"><img src=\"https://colab.research.google.com/assets/colab-badge.svg\" />在Google Colab运行</a>\n",
        "  </td>\n",
        "  <td>\n",
        "    <a target=\"_blank\" href=\"https://github.com/ShowMeAI-Hub/awesome-AI-cheatsheets/tree/main/Numpy/numpy-cheatsheet-code.ipynb\"><img src=\"https://badgen.net/badge/open/github/color=cyan?icon=github\" />在Github上查看源代码</a>\n",
        "  </td>\n",
        "  <td>\n",
        "    <a target=\"_blank\" href=\"https://github.com/ShowMeAI-Hub/awesome-AI-cheatsheets/Numpy/numpy速查表.pdf\"><img src=\"https://badgen.net/badge/download/pdf/color=white?icon=github\"/>下载速查表</a>\n",
        "  </td>\n",
        "</table>"
      ]
    },
    {
      "cell_type": "markdown",
      "metadata": {
        "id": "S-8VWNZZ2ePx"
      },
      "source": [
        "## 说明\n",
        "**notebook by [韩信子](https://github.com/HanXinzi-AI)@[ShowMeAI](https://github.com/ShowMeAI-Hub)**\n",
        "\n",
        "更多AI速查表资料请查看[速查表大全](https://github.com/ShowMeAI-Hub/awesome-AI-cheatsheets)"
      ]
    },
    {
      "cell_type": "markdown",
      "metadata": {
        "id": "0BJGnojp2ePx"
      },
      "source": [
        "## 导入工具库"
      ]
    },
    {
      "cell_type": "markdown",
      "metadata": {
        "id": "ibxTsCxp2ePy"
      },
      "source": [
        "Numpy是Python数据科学计算的核心库，提供了高性能的多维数组对象及处理数组的工具。"
      ]
    },
    {
      "cell_type": "markdown",
      "metadata": {
        "id": "2d22lpsT2ePy"
      },
      "source": [
        "使用以下语句导入Numpy库："
      ]
    },
    {
      "cell_type": "code",
      "execution_count": null,
      "metadata": {
        "id": "PvtesT-_2ePz"
      },
      "outputs": [],
      "source": [
        "import numpy as np"
      ]
    },
    {
      "cell_type": "markdown",
      "metadata": {
        "id": "O_iFSXAu2eP0"
      },
      "source": [
        "### Numpy数组"
      ]
    },
    {
      "cell_type": "markdown",
      "metadata": {
        "id": "yFjYM_fY2eP1"
      },
      "source": [
        "1维数组\n",
        "\n",
        "2维数组【axis 1  axis 0】\n",
        "\n",
        "3维数组【axis 2  axis 1  axis 0】"
      ]
    },
    {
      "cell_type": "markdown",
      "metadata": {
        "id": "gCKbudCQ2eP1"
      },
      "source": [
        "## 创建数组"
      ]
    },
    {
      "cell_type": "markdown",
      "metadata": {
        "id": "J25CL-M72eP2"
      },
      "source": [
        "### 初始化"
      ]
    },
    {
      "cell_type": "code",
      "execution_count": null,
      "metadata": {
        "id": "1utT4T4v2eP2"
      },
      "outputs": [],
      "source": [
        "a = np.array([1, 2, 3])"
      ]
    },
    {
      "cell_type": "code",
      "execution_count": null,
      "metadata": {
        "id": "c3ibVTwl2eP3"
      },
      "outputs": [],
      "source": [
        "b = np.array([(1.5, 2, 3), (4, 5, 6)], dtype = float)"
      ]
    },
    {
      "cell_type": "code",
      "execution_count": null,
      "metadata": {
        "id": "pGPJe7MP2eP3"
      },
      "outputs": [],
      "source": [
        "c = np.array([[(1.5, 2, 3), (4, 5, 6)], [(3, 2, 1), (4, 5, 6)]], dtype = float)"
      ]
    },
    {
      "cell_type": "markdown",
      "metadata": {
        "id": "Oq1jZsQu2eP3"
      },
      "source": [
        "### 特殊数组"
      ]
    },
    {
      "cell_type": "code",
      "execution_count": null,
      "metadata": {
        "id": "4BeV_bZr2eP3",
        "outputId": "5ad97d99-ca2b-415b-d56a-3875bd5412aa"
      },
      "outputs": [
        {
          "data": {
            "text/plain": [
              "array([[0., 0., 0., 0.],\n",
              "       [0., 0., 0., 0.],\n",
              "       [0., 0., 0., 0.]])"
            ]
          },
          "execution_count": 5,
          "metadata": {},
          "output_type": "execute_result"
        }
      ],
      "source": [
        "np.zeros((3, 4))   #创建值为0数组"
      ]
    },
    {
      "cell_type": "code",
      "execution_count": null,
      "metadata": {
        "id": "lf8aVcFy2eP4",
        "outputId": "932915bd-9d28-4fc5-eea5-5e851e87e0a2"
      },
      "outputs": [
        {
          "data": {
            "text/plain": [
              "array([[[1, 1, 1, 1],\n",
              "        [1, 1, 1, 1],\n",
              "        [1, 1, 1, 1]],\n",
              "\n",
              "       [[1, 1, 1, 1],\n",
              "        [1, 1, 1, 1],\n",
              "        [1, 1, 1, 1]]], dtype=int16)"
            ]
          },
          "execution_count": 6,
          "metadata": {},
          "output_type": "execute_result"
        }
      ],
      "source": [
        "np.ones((2, 3, 4),dtype=np.int16)   #创建值为1数组"
      ]
    },
    {
      "cell_type": "code",
      "execution_count": null,
      "metadata": {
        "id": "Lr4Fl0xb2eP5"
      },
      "outputs": [],
      "source": [
        "d = np.arange(10, 25, 5)   #创建均匀间隔的数组（步进值）"
      ]
    },
    {
      "cell_type": "code",
      "execution_count": null,
      "metadata": {
        "id": "CwJKlGQP2eP5",
        "outputId": "2bcf10a8-f5a5-4604-c69b-4e15c7c964b1"
      },
      "outputs": [
        {
          "data": {
            "text/plain": [
              "array([0.  , 0.25, 0.5 , 0.75, 1.  , 1.25, 1.5 , 1.75, 2.  ])"
            ]
          },
          "execution_count": 8,
          "metadata": {},
          "output_type": "execute_result"
        }
      ],
      "source": [
        "np.linspace(0, 2, 9)   #创建均匀间隔的数组（样本数）"
      ]
    },
    {
      "cell_type": "code",
      "execution_count": null,
      "metadata": {
        "id": "SOSo7Jlc2eP6"
      },
      "outputs": [],
      "source": [
        "e = np.full((2, 2), 7)   #创建常数数组"
      ]
    },
    {
      "cell_type": "code",
      "execution_count": null,
      "metadata": {
        "id": "uxMQ9pIk2eP6"
      },
      "outputs": [],
      "source": [
        "f = np.eye(2)   #创建2x2单位矩阵"
      ]
    },
    {
      "cell_type": "code",
      "execution_count": null,
      "metadata": {
        "id": "9akXDcgt2eP6",
        "outputId": "d250c472-711c-4f5f-db23-bba5d228d606"
      },
      "outputs": [
        {
          "data": {
            "text/plain": [
              "array([[0.54217164, 0.25095821],\n",
              "       [0.40964939, 0.45411324]])"
            ]
          },
          "execution_count": 11,
          "metadata": {},
          "output_type": "execute_result"
        }
      ],
      "source": [
        "np.random.random((2, 2))   #创建随机值的数组"
      ]
    },
    {
      "cell_type": "code",
      "execution_count": null,
      "metadata": {
        "id": "ieNGSuMz2eP7",
        "outputId": "f077e0cb-06ea-4f52-d4f4-ebe4d0fc6b6b"
      },
      "outputs": [
        {
          "data": {
            "text/plain": [
              "array([[0., 0.],\n",
              "       [0., 0.],\n",
              "       [0., 0.]])"
            ]
          },
          "execution_count": 12,
          "metadata": {},
          "output_type": "execute_result"
        }
      ],
      "source": [
        "np.empty((3,2))   #创建空数组"
      ]
    },
    {
      "cell_type": "markdown",
      "metadata": {
        "id": "c2Voi8l-2eP7"
      },
      "source": [
        "## 输入/输出"
      ]
    },
    {
      "cell_type": "markdown",
      "metadata": {
        "id": "Xwm7z5V82eP7"
      },
      "source": [
        "### 保存与载入磁盘上的文件"
      ]
    },
    {
      "cell_type": "code",
      "execution_count": null,
      "metadata": {
        "id": "YREQ1A4v2eP7"
      },
      "outputs": [],
      "source": [
        "np.save('my_array', a)"
      ]
    },
    {
      "cell_type": "code",
      "execution_count": null,
      "metadata": {
        "id": "2UB4LYsz2eP7"
      },
      "outputs": [],
      "source": [
        "np.savez('array.npz', a, b)"
      ]
    },
    {
      "cell_type": "code",
      "execution_count": null,
      "metadata": {
        "id": "0qgaoxE92eP8",
        "outputId": "5c697bf0-218c-4bfe-c6ca-b5c5f5609e14"
      },
      "outputs": [
        {
          "data": {
            "text/plain": [
              "array([1, 2, 3])"
            ]
          },
          "execution_count": 15,
          "metadata": {},
          "output_type": "execute_result"
        }
      ],
      "source": [
        "np.load('my_array.npy')"
      ]
    },
    {
      "cell_type": "code",
      "execution_count": null,
      "metadata": {
        "id": "NGBLbn5F2eP8"
      },
      "outputs": [],
      "source": [
        "np.savetxt(\"my_array.txt\", a, delimiter=\" \")"
      ]
    },
    {
      "cell_type": "markdown",
      "metadata": {
        "id": "beyhc6Dm2eP8"
      },
      "source": [
        "### 保存与载入文本文件"
      ]
    },
    {
      "cell_type": "code",
      "execution_count": null,
      "metadata": {
        "id": "CVV-nG_w2eP8",
        "outputId": "b0548467-9e5d-4dd0-83a8-e06cafb5ddae"
      },
      "outputs": [
        {
          "data": {
            "text/plain": [
              "array([1., 2., 3.])"
            ]
          },
          "execution_count": 17,
          "metadata": {},
          "output_type": "execute_result"
        }
      ],
      "source": [
        "np.loadtxt(\"my_array.txt\")"
      ]
    },
    {
      "cell_type": "code",
      "execution_count": null,
      "metadata": {
        "id": "WpH0ZtEF2eP8",
        "outputId": "4382975e-7acb-4d6b-9805-515903b296d5"
      },
      "outputs": [
        {
          "data": {
            "text/plain": [
              "array([1., 2., 3.])"
            ]
          },
          "execution_count": 18,
          "metadata": {},
          "output_type": "execute_result"
        }
      ],
      "source": [
        "np.genfromtxt(\"my_array.txt\", delimiter=' ')"
      ]
    },
    {
      "cell_type": "markdown",
      "metadata": {
        "id": "tDoHihxl2eP9"
      },
      "source": [
        "## 数据类型"
      ]
    },
    {
      "cell_type": "markdown",
      "metadata": {
        "id": "X23HeLEY2eP9"
      },
      "source": [
        "**有以下的一些数据类型**"
      ]
    },
    {
      "cell_type": "code",
      "execution_count": null,
      "metadata": {
        "id": "HsXNt-BG2eP9",
        "outputId": "d7ecab31-dc4d-4329-987a-04b01261ce99"
      },
      "outputs": [
        {
          "data": {
            "text/plain": [
              "numpy.int64"
            ]
          },
          "execution_count": 19,
          "metadata": {},
          "output_type": "execute_result"
        }
      ],
      "source": [
        "np.int64   #带符号的64位整数"
      ]
    },
    {
      "cell_type": "code",
      "execution_count": null,
      "metadata": {
        "id": "ewRN5awj2eP9",
        "outputId": "58468be2-b312-469a-ac4e-2f5450d35f61"
      },
      "outputs": [
        {
          "data": {
            "text/plain": [
              "numpy.float32"
            ]
          },
          "execution_count": 20,
          "metadata": {},
          "output_type": "execute_result"
        }
      ],
      "source": [
        "np.float32   #标准双精度浮点数"
      ]
    },
    {
      "cell_type": "code",
      "execution_count": null,
      "metadata": {
        "id": "zJrdWG1Q2eP-",
        "outputId": "8c823a2d-8d76-4bf4-d32d-e4c41718d3fa"
      },
      "outputs": [
        {
          "data": {
            "text/plain": [
              "complex"
            ]
          },
          "execution_count": 21,
          "metadata": {},
          "output_type": "execute_result"
        }
      ],
      "source": [
        "np.complex   #显示为128位浮点数的复数"
      ]
    },
    {
      "cell_type": "code",
      "execution_count": null,
      "metadata": {
        "id": "lDfLdgfZ2eP-",
        "outputId": "3883b17c-3bd0-4683-893c-d759cdd67e20"
      },
      "outputs": [
        {
          "data": {
            "text/plain": [
              "bool"
            ]
          },
          "execution_count": 22,
          "metadata": {},
          "output_type": "execute_result"
        }
      ],
      "source": [
        "np.bool   #布尔值：True值和False值"
      ]
    },
    {
      "cell_type": "code",
      "execution_count": null,
      "metadata": {
        "id": "b3tNBEBH2eP-",
        "outputId": "307f3a91-73fa-4d3e-9408-145edf08d338"
      },
      "outputs": [
        {
          "data": {
            "text/plain": [
              "object"
            ]
          },
          "execution_count": 23,
          "metadata": {},
          "output_type": "execute_result"
        }
      ],
      "source": [
        "np.object   #Python对象"
      ]
    },
    {
      "cell_type": "code",
      "execution_count": null,
      "metadata": {
        "id": "_ABaeWg52eP-",
        "outputId": "a4d6a9fa-3bd4-4f91-e1ce-1cd26b85bccd"
      },
      "outputs": [
        {
          "data": {
            "text/plain": [
              "numpy.bytes_"
            ]
          },
          "execution_count": 24,
          "metadata": {},
          "output_type": "execute_result"
        }
      ],
      "source": [
        "np.string_   #固定长度字符串"
      ]
    },
    {
      "cell_type": "code",
      "execution_count": null,
      "metadata": {
        "id": "aDKk-NdS2eP_",
        "outputId": "9bb2625f-e0d5-4b2b-b326-62c240580b90"
      },
      "outputs": [
        {
          "data": {
            "text/plain": [
              "numpy.str_"
            ]
          },
          "execution_count": 25,
          "metadata": {},
          "output_type": "execute_result"
        }
      ],
      "source": [
        "np.unicode_   #固定长度Unicode"
      ]
    },
    {
      "cell_type": "markdown",
      "metadata": {
        "id": "emO-P9cd2eP_"
      },
      "source": [
        "## 数组信息"
      ]
    },
    {
      "cell_type": "markdown",
      "metadata": {
        "id": "NHhEdN-z2eP_"
      },
      "source": [
        "**查看数组的基本信息**"
      ]
    },
    {
      "cell_type": "code",
      "execution_count": null,
      "metadata": {
        "id": "wF4NxqMJ2eP_",
        "outputId": "dd5fccc5-7ef7-4e4c-cd76-c8b7e01787e2"
      },
      "outputs": [
        {
          "data": {
            "text/plain": [
              "(3,)"
            ]
          },
          "execution_count": 26,
          "metadata": {},
          "output_type": "execute_result"
        }
      ],
      "source": [
        "a.shape   #数组形状，几行几列"
      ]
    },
    {
      "cell_type": "code",
      "execution_count": null,
      "metadata": {
        "id": "gXPJ6h8W2eP_",
        "outputId": "2435238d-93db-4181-a844-173018efeafc"
      },
      "outputs": [
        {
          "data": {
            "text/plain": [
              "3"
            ]
          },
          "execution_count": 27,
          "metadata": {},
          "output_type": "execute_result"
        }
      ],
      "source": [
        "len(a)   #数组长度"
      ]
    },
    {
      "cell_type": "code",
      "execution_count": null,
      "metadata": {
        "id": "0anIhGQy2eP_",
        "outputId": "b9f2f323-e44e-4f07-ada5-1d77d0edd53e"
      },
      "outputs": [
        {
          "data": {
            "text/plain": [
              "2"
            ]
          },
          "execution_count": 28,
          "metadata": {},
          "output_type": "execute_result"
        }
      ],
      "source": [
        "b.ndim   #几维数组"
      ]
    },
    {
      "cell_type": "code",
      "execution_count": null,
      "metadata": {
        "id": "VK_oifjd2eQA",
        "outputId": "a49b4567-a1f3-4461-bd6b-8176afed5db3"
      },
      "outputs": [
        {
          "data": {
            "text/plain": [
              "4"
            ]
          },
          "execution_count": 29,
          "metadata": {},
          "output_type": "execute_result"
        }
      ],
      "source": [
        "e.size   #数组有多少元素"
      ]
    },
    {
      "cell_type": "code",
      "execution_count": null,
      "metadata": {
        "id": "CYJ3ETXv2eQA",
        "outputId": "ed2347a1-a90f-4606-8cc9-a7e3f8ea6f40"
      },
      "outputs": [
        {
          "data": {
            "text/plain": [
              "dtype('float64')"
            ]
          },
          "execution_count": 30,
          "metadata": {},
          "output_type": "execute_result"
        }
      ],
      "source": [
        "b.dtype   #数据类型"
      ]
    },
    {
      "cell_type": "code",
      "execution_count": null,
      "metadata": {
        "id": "UMeNiPpT2eQA",
        "outputId": "190751b2-6cb2-40a2-ff87-0387239126e5"
      },
      "outputs": [
        {
          "data": {
            "text/plain": [
              "'float64'"
            ]
          },
          "execution_count": 31,
          "metadata": {},
          "output_type": "execute_result"
        }
      ],
      "source": [
        "b.dtype.name   #数据类型的名字"
      ]
    },
    {
      "cell_type": "code",
      "execution_count": null,
      "metadata": {
        "id": "gq_LAGmU2eQA",
        "outputId": "2cd85411-8f50-4274-9919-438fa86a2ebe"
      },
      "outputs": [
        {
          "data": {
            "text/plain": [
              "array([[1, 2, 3],\n",
              "       [4, 5, 6]])"
            ]
          },
          "execution_count": 32,
          "metadata": {},
          "output_type": "execute_result"
        }
      ],
      "source": [
        "b.astype(int)   #数据类型转换"
      ]
    },
    {
      "cell_type": "markdown",
      "metadata": {
        "id": "J1nSG-_U2eQA"
      },
      "source": [
        "## 数组计算"
      ]
    },
    {
      "cell_type": "markdown",
      "metadata": {
        "id": "uCKr6pok2eQA"
      },
      "source": [
        "### 算数运算"
      ]
    },
    {
      "cell_type": "code",
      "execution_count": null,
      "metadata": {
        "id": "VeBNC43S2eQB"
      },
      "outputs": [],
      "source": [
        "g = a - b   #减法"
      ]
    },
    {
      "cell_type": "code",
      "execution_count": null,
      "metadata": {
        "id": "gZELHduU2eQB",
        "outputId": "fdfe516d-62eb-4ccd-c830-316a2038723f"
      },
      "outputs": [
        {
          "data": {
            "text/plain": [
              "array([[-0.5,  0. ,  0. ],\n",
              "       [-3. , -3. , -3. ]])"
            ]
          },
          "execution_count": 37,
          "metadata": {},
          "output_type": "execute_result"
        }
      ],
      "source": [
        "g"
      ]
    },
    {
      "cell_type": "code",
      "execution_count": null,
      "metadata": {
        "id": "CZKqtjth2eQB",
        "outputId": "4b478143-1747-4ff7-c9b1-9b11a7f67995"
      },
      "outputs": [
        {
          "data": {
            "text/plain": [
              "array([[-0.5,  0. ,  0. ],\n",
              "       [-3. , -3. , -3. ]])"
            ]
          },
          "execution_count": 38,
          "metadata": {},
          "output_type": "execute_result"
        }
      ],
      "source": [
        "np.subtract(a,b)   #减法"
      ]
    },
    {
      "cell_type": "code",
      "execution_count": null,
      "metadata": {
        "id": "X91MEi2F2eQB",
        "outputId": "9178a0bf-8473-4a26-b977-f37e0ee81467"
      },
      "outputs": [
        {
          "data": {
            "text/plain": [
              "array([[2.5, 4. , 6. ],\n",
              "       [5. , 7. , 9. ]])"
            ]
          },
          "execution_count": 39,
          "metadata": {},
          "output_type": "execute_result"
        }
      ],
      "source": [
        "b + a   #加法"
      ]
    },
    {
      "cell_type": "code",
      "execution_count": null,
      "metadata": {
        "id": "GrEzPLlC2eQB",
        "outputId": "7f5fab96-75e4-473f-d126-996e63e5e970"
      },
      "outputs": [
        {
          "data": {
            "text/plain": [
              "array([[2.5, 4. , 6. ],\n",
              "       [5. , 7. , 9. ]])"
            ]
          },
          "execution_count": 40,
          "metadata": {},
          "output_type": "execute_result"
        }
      ],
      "source": [
        "np.add(b,a)   #加法"
      ]
    },
    {
      "cell_type": "code",
      "execution_count": null,
      "metadata": {
        "id": "uGFyGeh22eQB",
        "outputId": "691b31f4-3263-4851-f4e1-da4e12041f09"
      },
      "outputs": [
        {
          "data": {
            "text/plain": [
              "array([[0.66666667, 1.        , 1.        ],\n",
              "       [0.25      , 0.4       , 0.5       ]])"
            ]
          },
          "execution_count": 41,
          "metadata": {},
          "output_type": "execute_result"
        }
      ],
      "source": [
        "a / b   #除法"
      ]
    },
    {
      "cell_type": "code",
      "execution_count": null,
      "metadata": {
        "id": "wFAmATH72eQC",
        "outputId": "fabebc72-37d6-487c-d7eb-238f7907bf15"
      },
      "outputs": [
        {
          "data": {
            "text/plain": [
              "array([[0.66666667, 1.        , 1.        ],\n",
              "       [0.25      , 0.4       , 0.5       ]])"
            ]
          },
          "execution_count": 42,
          "metadata": {},
          "output_type": "execute_result"
        }
      ],
      "source": [
        "np.divide(a,b)   #除法"
      ]
    },
    {
      "cell_type": "code",
      "execution_count": null,
      "metadata": {
        "id": "YPiVvtBH2eQC",
        "outputId": "f44cd518-6e43-49c6-b23f-d585e2989846"
      },
      "outputs": [
        {
          "data": {
            "text/plain": [
              "array([[ 1.5,  4. ,  9. ],\n",
              "       [ 4. , 10. , 18. ]])"
            ]
          },
          "execution_count": 43,
          "metadata": {},
          "output_type": "execute_result"
        }
      ],
      "source": [
        "a * b   #乘法"
      ]
    },
    {
      "cell_type": "code",
      "execution_count": null,
      "metadata": {
        "id": "8MfJ90bX2eQC",
        "outputId": "20ec45bf-19b0-4b34-ccce-6e7ccc4bbf07"
      },
      "outputs": [
        {
          "data": {
            "text/plain": [
              "array([[ 1.5,  4. ,  9. ],\n",
              "       [ 4. , 10. , 18. ]])"
            ]
          },
          "execution_count": 44,
          "metadata": {},
          "output_type": "execute_result"
        }
      ],
      "source": [
        "np.multiply(a,b)   #乘法"
      ]
    },
    {
      "cell_type": "code",
      "execution_count": null,
      "metadata": {
        "id": "D1hl7gnJ2eQC",
        "outputId": "6102f825-4aaf-4cf4-e462-3a8da0997bb4"
      },
      "outputs": [
        {
          "data": {
            "text/plain": [
              "array([[  4.48168907,   7.3890561 ,  20.08553692],\n",
              "       [ 54.59815003, 148.4131591 , 403.42879349]])"
            ]
          },
          "execution_count": 45,
          "metadata": {},
          "output_type": "execute_result"
        }
      ],
      "source": [
        "np.exp(b)   #幂"
      ]
    },
    {
      "cell_type": "code",
      "execution_count": null,
      "metadata": {
        "id": "Ax3k_thd2eQC",
        "outputId": "8b1eec24-af3b-4735-979a-881246e43942"
      },
      "outputs": [
        {
          "data": {
            "text/plain": [
              "array([[1.22474487, 1.41421356, 1.73205081],\n",
              "       [2.        , 2.23606798, 2.44948974]])"
            ]
          },
          "execution_count": 46,
          "metadata": {},
          "output_type": "execute_result"
        }
      ],
      "source": [
        "np.sqrt(b)   #平方根"
      ]
    },
    {
      "cell_type": "code",
      "execution_count": null,
      "metadata": {
        "id": "zaQW74T52eQC",
        "outputId": "01ae0d90-2b65-4fa5-cff4-a23d705a6193"
      },
      "outputs": [
        {
          "data": {
            "text/plain": [
              "array([0.84147098, 0.90929743, 0.14112001])"
            ]
          },
          "execution_count": 47,
          "metadata": {},
          "output_type": "execute_result"
        }
      ],
      "source": [
        "np.sin(a)   #正弦"
      ]
    },
    {
      "cell_type": "code",
      "execution_count": null,
      "metadata": {
        "id": "mSPTLRXd2eQD",
        "outputId": "d897e169-9796-459c-b0d8-c464d4d29526"
      },
      "outputs": [
        {
          "data": {
            "text/plain": [
              "array([[ 0.0707372 , -0.41614684, -0.9899925 ],\n",
              "       [-0.65364362,  0.28366219,  0.96017029]])"
            ]
          },
          "execution_count": 48,
          "metadata": {},
          "output_type": "execute_result"
        }
      ],
      "source": [
        "np.cos(b)   #余弦"
      ]
    },
    {
      "cell_type": "code",
      "execution_count": null,
      "metadata": {
        "id": "Hxrn3IIR2eQD",
        "outputId": "b18281d3-9160-4336-f760-3e5c34fc8144"
      },
      "outputs": [
        {
          "data": {
            "text/plain": [
              "array([0.        , 0.69314718, 1.09861229])"
            ]
          },
          "execution_count": 49,
          "metadata": {},
          "output_type": "execute_result"
        }
      ],
      "source": [
        "np.log(a)   #自然对数"
      ]
    },
    {
      "cell_type": "code",
      "execution_count": null,
      "metadata": {
        "id": "0WDdAHhy2eQD",
        "outputId": "a5a03675-faa1-485c-a021-c86cc1860763"
      },
      "outputs": [
        {
          "data": {
            "text/plain": [
              "array([[7., 7.],\n",
              "       [7., 7.]])"
            ]
          },
          "execution_count": 50,
          "metadata": {},
          "output_type": "execute_result"
        }
      ],
      "source": [
        "e.dot(f)   #点积"
      ]
    },
    {
      "cell_type": "markdown",
      "metadata": {
        "id": "ATukXfb22eQD"
      },
      "source": [
        "### 比较"
      ]
    },
    {
      "cell_type": "code",
      "execution_count": null,
      "metadata": {
        "id": "6VGGipwp2eQD",
        "outputId": "5f1b63f6-f02c-4061-d012-9faa4423bd36"
      },
      "outputs": [
        {
          "data": {
            "text/plain": [
              "array([[False,  True,  True],\n",
              "       [False, False, False]])"
            ]
          },
          "execution_count": 51,
          "metadata": {},
          "output_type": "execute_result"
        }
      ],
      "source": [
        "a == b   #对比值"
      ]
    },
    {
      "cell_type": "code",
      "execution_count": null,
      "metadata": {
        "id": "Ed2gc5Z62eQD",
        "outputId": "e06f7c0e-26e2-4ba3-cce5-c9f939262300"
      },
      "outputs": [
        {
          "data": {
            "text/plain": [
              "array([ True, False, False])"
            ]
          },
          "execution_count": 52,
          "metadata": {},
          "output_type": "execute_result"
        }
      ],
      "source": [
        "a < 2   #对比值"
      ]
    },
    {
      "cell_type": "code",
      "execution_count": null,
      "metadata": {
        "id": "6Wvfechf2eQE",
        "outputId": "58adf1be-0e34-4aa8-98b6-3bf63c00ee0b"
      },
      "outputs": [
        {
          "data": {
            "text/plain": [
              "False"
            ]
          },
          "execution_count": 53,
          "metadata": {},
          "output_type": "execute_result"
        }
      ],
      "source": [
        "np.array_equal(a, b)   #对比数组"
      ]
    },
    {
      "cell_type": "markdown",
      "metadata": {
        "id": "mTS8n_cm2eQE"
      },
      "source": [
        "### 聚合函数"
      ]
    },
    {
      "cell_type": "code",
      "execution_count": null,
      "metadata": {
        "id": "4Mzw0qED2eQE",
        "outputId": "14a2fd01-cb45-4e94-8f89-cbaca020dd88"
      },
      "outputs": [
        {
          "data": {
            "text/plain": [
              "6"
            ]
          },
          "execution_count": 54,
          "metadata": {},
          "output_type": "execute_result"
        }
      ],
      "source": [
        "a.sum()   #数组汇总"
      ]
    },
    {
      "cell_type": "code",
      "execution_count": null,
      "metadata": {
        "id": "covgGToD2eQE",
        "outputId": "bd56aadd-782c-4ac1-f52b-af72279f2270"
      },
      "outputs": [
        {
          "data": {
            "text/plain": [
              "1"
            ]
          },
          "execution_count": 55,
          "metadata": {},
          "output_type": "execute_result"
        }
      ],
      "source": [
        "a.min()   #数组最小值"
      ]
    },
    {
      "cell_type": "code",
      "execution_count": null,
      "metadata": {
        "id": "Se2DobAu2eQE",
        "outputId": "be4984a1-2105-4d2c-e867-6b774e9312de"
      },
      "outputs": [
        {
          "data": {
            "text/plain": [
              "array([4., 5., 6.])"
            ]
          },
          "execution_count": 56,
          "metadata": {},
          "output_type": "execute_result"
        }
      ],
      "source": [
        "b.max(axis=0)   #数组最大值，按行"
      ]
    },
    {
      "cell_type": "code",
      "execution_count": null,
      "metadata": {
        "id": "tvfz7Wuz2eQE",
        "outputId": "6fa5f154-e257-4736-91e3-4d910fbeb15b"
      },
      "outputs": [
        {
          "data": {
            "text/plain": [
              "array([[ 1.5,  3.5,  6.5],\n",
              "       [ 4. ,  9. , 15. ]])"
            ]
          },
          "execution_count": 57,
          "metadata": {},
          "output_type": "execute_result"
        }
      ],
      "source": [
        "b.cumsum(axis=1)   #数组元素的累加值"
      ]
    },
    {
      "cell_type": "code",
      "execution_count": null,
      "metadata": {
        "id": "KoVr2J8H2eQE",
        "outputId": "97311cc5-ebbf-4b7e-d51c-e9a5cce4715a"
      },
      "outputs": [
        {
          "data": {
            "text/plain": [
              "2.0"
            ]
          },
          "execution_count": 58,
          "metadata": {},
          "output_type": "execute_result"
        }
      ],
      "source": [
        "a.mean()   #平均数"
      ]
    },
    {
      "cell_type": "code",
      "execution_count": null,
      "metadata": {
        "id": "f8CjRVKq2eQF",
        "outputId": "1c2969f1-ddac-46e9-f352-07b1b6d4e490"
      },
      "outputs": [
        {
          "data": {
            "text/plain": [
              "3.5"
            ]
          },
          "execution_count": 61,
          "metadata": {},
          "output_type": "execute_result"
        }
      ],
      "source": [
        "np.median(b)   #中位数"
      ]
    },
    {
      "cell_type": "code",
      "execution_count": null,
      "metadata": {
        "id": "mzZJRwpp2eQF",
        "outputId": "74031ae5-4351-409f-e9b1-af2d4b2cd5ef"
      },
      "outputs": [
        {
          "data": {
            "text/plain": [
              "array([[1.        , 0.98198051, 1.        ],\n",
              "       [0.98198051, 1.        , 0.98198051],\n",
              "       [1.        , 0.98198051, 1.        ]])"
            ]
          },
          "execution_count": 62,
          "metadata": {},
          "output_type": "execute_result"
        }
      ],
      "source": [
        "np.corrcoef(a, b)   #相关系数"
      ]
    },
    {
      "cell_type": "code",
      "execution_count": null,
      "metadata": {
        "id": "BXV3a3uA2eQF",
        "outputId": "686c1cdb-e1fb-47c1-cea2-6b65cfcfaf0d"
      },
      "outputs": [
        {
          "data": {
            "text/plain": [
              "1.5920810978785667"
            ]
          },
          "execution_count": 63,
          "metadata": {},
          "output_type": "execute_result"
        }
      ],
      "source": [
        "np.std(b)   #标准差"
      ]
    },
    {
      "cell_type": "markdown",
      "metadata": {
        "id": "Wd2OfgnK2eQF"
      },
      "source": [
        "## 数组复制"
      ]
    },
    {
      "cell_type": "markdown",
      "metadata": {
        "id": "iogcSJwb2eQF"
      },
      "source": [
        "**可以通过copy复制数组**"
      ]
    },
    {
      "cell_type": "code",
      "execution_count": null,
      "metadata": {
        "id": "0jsaJMVi2eQF"
      },
      "outputs": [],
      "source": [
        "h = a.view()   #使用同一数据创建数组视图"
      ]
    },
    {
      "cell_type": "code",
      "execution_count": null,
      "metadata": {
        "id": "5VONfEEQ2eQF",
        "outputId": "44c0672e-229b-47ad-ffbf-102795988f9c"
      },
      "outputs": [
        {
          "data": {
            "text/plain": [
              "array([1, 2, 3])"
            ]
          },
          "execution_count": 65,
          "metadata": {},
          "output_type": "execute_result"
        }
      ],
      "source": [
        "np.copy(a)   #创建数组的副本"
      ]
    },
    {
      "cell_type": "code",
      "execution_count": null,
      "metadata": {
        "id": "3pOiNVtY2eQG"
      },
      "outputs": [],
      "source": [
        "h = a.copy()   #创建数组的深度拷贝"
      ]
    },
    {
      "cell_type": "markdown",
      "metadata": {
        "id": "hatawXmf2eQG"
      },
      "source": [
        "## 数组排序"
      ]
    },
    {
      "cell_type": "markdown",
      "metadata": {
        "id": "jif2l3Ji2eQG"
      },
      "source": [
        "**通过sort进行数组排序**"
      ]
    },
    {
      "cell_type": "code",
      "execution_count": null,
      "metadata": {
        "id": "KRDa8LQ42eQG"
      },
      "outputs": [],
      "source": [
        "a.sort()   #数组排序"
      ]
    },
    {
      "cell_type": "code",
      "execution_count": null,
      "metadata": {
        "id": "9tbH6y5G2eQG"
      },
      "outputs": [],
      "source": [
        "c.sort(axis=0)   #以轴为依据对数组排序"
      ]
    },
    {
      "cell_type": "markdown",
      "metadata": {
        "id": "XTIETVjs2eQG"
      },
      "source": [
        "## 子集、切片、索引"
      ]
    },
    {
      "cell_type": "markdown",
      "metadata": {
        "id": "TivMJsDe2eQG"
      },
      "source": [
        "### 子集"
      ]
    },
    {
      "cell_type": "code",
      "execution_count": null,
      "metadata": {
        "id": "4oFVer292eQH",
        "outputId": "f6a1af09-02cf-42ea-8976-aaf1cdab1a43"
      },
      "outputs": [
        {
          "data": {
            "text/plain": [
              "3"
            ]
          },
          "execution_count": 69,
          "metadata": {},
          "output_type": "execute_result"
        }
      ],
      "source": [
        "a[2]   #选择索引2对应的值"
      ]
    },
    {
      "cell_type": "code",
      "execution_count": null,
      "metadata": {
        "id": "EmGyX6N52eQH",
        "outputId": "88b9ea3e-a145-4c03-803e-b762cd44a14d"
      },
      "outputs": [
        {
          "data": {
            "text/plain": [
              "6.0"
            ]
          },
          "execution_count": 70,
          "metadata": {},
          "output_type": "execute_result"
        }
      ],
      "source": [
        "b[1, 2]   #选择行列index为1和2位置对应的值（等同于b[1][2] ）"
      ]
    },
    {
      "cell_type": "markdown",
      "metadata": {
        "id": "gIH9zUJH2eQH"
      },
      "source": [
        "### 切片"
      ]
    },
    {
      "cell_type": "code",
      "execution_count": null,
      "metadata": {
        "id": "4qTXZK_E2eQH",
        "outputId": "ee3e149e-5d8f-4b0d-dd10-59fc22b5d1f5"
      },
      "outputs": [
        {
          "data": {
            "text/plain": [
              "array([1, 2])"
            ]
          },
          "execution_count": 71,
          "metadata": {},
          "output_type": "execute_result"
        }
      ],
      "source": [
        "a[0:2]   #选择索引为0与1对应的值"
      ]
    },
    {
      "cell_type": "code",
      "execution_count": null,
      "metadata": {
        "id": "3jCUitA62eQH",
        "outputId": "5d45a76f-e8bc-4e1f-e03f-b040be319b5e"
      },
      "outputs": [
        {
          "data": {
            "text/plain": [
              "array([2., 5.])"
            ]
          },
          "execution_count": 72,
          "metadata": {},
          "output_type": "execute_result"
        }
      ],
      "source": [
        "b[0:2, 1]   #选择第1列中第0行、第1行的值"
      ]
    },
    {
      "cell_type": "code",
      "execution_count": null,
      "metadata": {
        "id": "qahihLml2eQJ",
        "outputId": "28cc181e-d5be-4014-8ef9-3102726fdb05"
      },
      "outputs": [
        {
          "data": {
            "text/plain": [
              "array([[1.5, 2. , 3. ]])"
            ]
          },
          "execution_count": 73,
          "metadata": {},
          "output_type": "execute_result"
        }
      ],
      "source": [
        "b[:1]   #选择第0行的所有值（等同于b[0:1,:1] ）"
      ]
    },
    {
      "cell_type": "code",
      "execution_count": null,
      "metadata": {
        "id": "el4lPEyx2eQK",
        "outputId": "1c2a49d0-8a11-4c7a-e579-8fdd3efcddf7"
      },
      "outputs": [
        {
          "data": {
            "text/plain": [
              "array([[3., 2., 3.],\n",
              "       [4., 5., 6.]])"
            ]
          },
          "execution_count": 74,
          "metadata": {},
          "output_type": "execute_result"
        }
      ],
      "source": [
        "c[1,...]   #等同于 [1,:,:]"
      ]
    },
    {
      "cell_type": "code",
      "execution_count": null,
      "metadata": {
        "id": "NdY359Jf2eQK",
        "outputId": "32af228e-10bc-4584-a055-8324022055e4"
      },
      "outputs": [
        {
          "data": {
            "text/plain": [
              "array([3, 2, 1])"
            ]
          },
          "execution_count": 75,
          "metadata": {},
          "output_type": "execute_result"
        }
      ],
      "source": [
        "a[ : :-1]   #反转数组a"
      ]
    },
    {
      "cell_type": "code",
      "execution_count": null,
      "metadata": {
        "id": "8rip1gTe2eQK",
        "outputId": "41efd053-db2f-40ee-aca2-39c7b207d3dd"
      },
      "outputs": [
        {
          "data": {
            "text/plain": [
              "array([1])"
            ]
          },
          "execution_count": 76,
          "metadata": {},
          "output_type": "execute_result"
        }
      ],
      "source": [
        "a[a<2]   #选择数组a中所有小于2的值"
      ]
    },
    {
      "cell_type": "code",
      "execution_count": null,
      "metadata": {
        "id": "CECK1VH82eQK",
        "outputId": "69627fc6-e4f0-4308-f757-3a2f4d303b9a"
      },
      "outputs": [
        {
          "data": {
            "text/plain": [
              "array([4. , 2. , 6. , 1.5])"
            ]
          },
          "execution_count": 77,
          "metadata": {},
          "output_type": "execute_result"
        }
      ],
      "source": [
        "b[[1, 0, 1, 0],[0, 1, 2, 0]]   #选择(1,0),(0,1),(1,2)和(0,0)所对应的值"
      ]
    },
    {
      "cell_type": "code",
      "execution_count": null,
      "metadata": {
        "id": "-W9GxXcq2eQK",
        "outputId": "62d95c6f-4971-4320-dd5d-8120972c000b"
      },
      "outputs": [
        {
          "data": {
            "text/plain": [
              "array([[4. , 5. , 6. , 4. ],\n",
              "       [1.5, 2. , 3. , 1.5],\n",
              "       [4. , 5. , 6. , 4. ],\n",
              "       [1.5, 2. , 3. , 1.5]])"
            ]
          },
          "execution_count": 78,
          "metadata": {},
          "output_type": "execute_result"
        }
      ],
      "source": [
        "b[[1, 0, 1, 0]][:,[0,1,2,0]]   #选择矩阵的行列子集"
      ]
    },
    {
      "cell_type": "markdown",
      "metadata": {
        "id": "6MvuI_D72eQL"
      },
      "source": [
        "## 数组操作"
      ]
    },
    {
      "cell_type": "markdown",
      "metadata": {
        "id": "gN_Ays_J2eQL"
      },
      "source": [
        "### 转置数组"
      ]
    },
    {
      "cell_type": "code",
      "execution_count": null,
      "metadata": {
        "id": "WtSnVLej2eQL"
      },
      "outputs": [],
      "source": [
        "i = np.transpose(b)   #转置数组"
      ]
    },
    {
      "cell_type": "code",
      "execution_count": null,
      "metadata": {
        "id": "EMRSSs9G2eQL",
        "outputId": "20116fe5-1b2d-4362-9578-09d5ba65a1f3"
      },
      "outputs": [
        {
          "data": {
            "text/plain": [
              "array([[1.5, 2. , 3. ],\n",
              "       [4. , 5. , 6. ]])"
            ]
          },
          "execution_count": 80,
          "metadata": {},
          "output_type": "execute_result"
        }
      ],
      "source": [
        "i.T   #转置数组"
      ]
    },
    {
      "cell_type": "markdown",
      "metadata": {
        "id": "wER7C8332eQL"
      },
      "source": [
        "### 改变数组形状"
      ]
    },
    {
      "cell_type": "code",
      "execution_count": null,
      "metadata": {
        "id": "JfXMhIg12eQL",
        "outputId": "862e6fe9-6be3-4835-ce6f-bd9db1e2efe6"
      },
      "outputs": [
        {
          "data": {
            "text/plain": [
              "array([1.5, 2. , 3. , 4. , 5. , 6. ])"
            ]
          },
          "execution_count": 81,
          "metadata": {},
          "output_type": "execute_result"
        }
      ],
      "source": [
        "b.ravel()   #拉平数组"
      ]
    },
    {
      "cell_type": "code",
      "execution_count": null,
      "metadata": {
        "id": "mX2GUm1r2eQM",
        "outputId": "55a7b37b-993b-43fb-c962-b0b5f31053a1"
      },
      "outputs": [
        {
          "data": {
            "text/plain": [
              "array([[-0.5,  0. ],\n",
              "       [ 0. , -3. ],\n",
              "       [-3. , -3. ]])"
            ]
          },
          "execution_count": 82,
          "metadata": {},
          "output_type": "execute_result"
        }
      ],
      "source": [
        "g.reshape(3, -2)   #改变数组形状，但不改变数据"
      ]
    },
    {
      "cell_type": "markdown",
      "metadata": {
        "id": "1opAxXqn2eQM"
      },
      "source": [
        "### 添加或删除值"
      ]
    },
    {
      "cell_type": "code",
      "execution_count": null,
      "metadata": {
        "id": "PXSSHq9v2eQM"
      },
      "outputs": [],
      "source": [
        "h.resize((2, 6))   #返回形状为(2,6)的新数组"
      ]
    },
    {
      "cell_type": "code",
      "execution_count": null,
      "metadata": {
        "id": "G6ae6J7P2eQM",
        "outputId": "23031af1-5b82-40e7-92e0-cf7d9d9169ca"
      },
      "outputs": [
        {
          "data": {
            "text/plain": [
              "array([ 1. ,  2. ,  3. ,  0. ,  0. ,  0. ,  0. ,  0. ,  0. ,  0. ,  0. ,\n",
              "        0. , -0.5,  0. ,  0. , -3. , -3. , -3. ])"
            ]
          },
          "execution_count": 84,
          "metadata": {},
          "output_type": "execute_result"
        }
      ],
      "source": [
        "np.append(h, g)   #追加数据"
      ]
    },
    {
      "cell_type": "code",
      "execution_count": null,
      "metadata": {
        "id": "KrhdGAaH2eQM",
        "outputId": "725b3aab-66c8-4381-93d1-a7741a5b3c3c"
      },
      "outputs": [
        {
          "data": {
            "text/plain": [
              "array([1, 5, 2, 3])"
            ]
          },
          "execution_count": 85,
          "metadata": {},
          "output_type": "execute_result"
        }
      ],
      "source": [
        "np.insert(a, 1, 5)   #插入数据"
      ]
    },
    {
      "cell_type": "code",
      "execution_count": null,
      "metadata": {
        "id": "P8uWr-vV2eQN",
        "outputId": "eb8103f5-b35c-4c70-9569-97db24f90be6"
      },
      "outputs": [
        {
          "data": {
            "text/plain": [
              "array([1, 3])"
            ]
          },
          "execution_count": 86,
          "metadata": {},
          "output_type": "execute_result"
        }
      ],
      "source": [
        "np.delete(a, [1])   #删除数据"
      ]
    },
    {
      "cell_type": "markdown",
      "metadata": {
        "id": "oT5iMeGY2eQN"
      },
      "source": [
        "### 合并数组"
      ]
    },
    {
      "cell_type": "code",
      "execution_count": null,
      "metadata": {
        "id": "XThkP7i92eQN",
        "outputId": "047ba1d2-2200-4620-e3f8-c0837d550eae"
      },
      "outputs": [
        {
          "data": {
            "text/plain": [
              "array([ 1,  2,  3, 10, 15, 20])"
            ]
          },
          "execution_count": 87,
          "metadata": {},
          "output_type": "execute_result"
        }
      ],
      "source": [
        "np.concatenate((a, d), axis=0)   #拼接数组"
      ]
    },
    {
      "cell_type": "code",
      "execution_count": null,
      "metadata": {
        "id": "N4rgeZ782eQN",
        "outputId": "5d7df5b5-dc32-4127-d523-60ecce9ce7bc"
      },
      "outputs": [
        {
          "data": {
            "text/plain": [
              "array([[1. , 2. , 3. ],\n",
              "       [1.5, 2. , 3. ],\n",
              "       [4. , 5. , 6. ]])"
            ]
          },
          "execution_count": 89,
          "metadata": {},
          "output_type": "execute_result"
        }
      ],
      "source": [
        "np.vstack((a, b))   #纵向以行的维度堆叠数组"
      ]
    },
    {
      "cell_type": "code",
      "execution_count": null,
      "metadata": {
        "id": "Cordi2Yo2eQN",
        "outputId": "8a5a2c99-30c3-4da1-a2c0-ab41e81e770e"
      },
      "outputs": [
        {
          "data": {
            "text/plain": [
              "array([[7., 7.],\n",
              "       [7., 7.],\n",
              "       [1., 0.],\n",
              "       [0., 1.]])"
            ]
          },
          "execution_count": 90,
          "metadata": {},
          "output_type": "execute_result"
        }
      ],
      "source": [
        "np.r_[e, f]   #纵向以行的维度堆叠数组"
      ]
    },
    {
      "cell_type": "code",
      "execution_count": null,
      "metadata": {
        "id": "Pfmz2hEn2eQN",
        "outputId": "33447749-b973-4e61-a324-95c7edb5ff8b"
      },
      "outputs": [
        {
          "data": {
            "text/plain": [
              "array([[7., 7., 1., 0.],\n",
              "       [7., 7., 0., 1.]])"
            ]
          },
          "execution_count": 91,
          "metadata": {},
          "output_type": "execute_result"
        }
      ],
      "source": [
        "np.hstack((e, f))   #横向以列的维度堆叠数组"
      ]
    },
    {
      "cell_type": "code",
      "execution_count": null,
      "metadata": {
        "id": "FqXiC74s2eQN",
        "outputId": "aaf7143b-39a3-4d71-c245-e8d77d74c1cb"
      },
      "outputs": [
        {
          "data": {
            "text/plain": [
              "array([[ 1, 10],\n",
              "       [ 2, 15],\n",
              "       [ 3, 20]])"
            ]
          },
          "execution_count": 92,
          "metadata": {},
          "output_type": "execute_result"
        }
      ],
      "source": [
        "np.column_stack((a,d))   #以列的维度创建堆叠数组"
      ]
    },
    {
      "cell_type": "code",
      "execution_count": null,
      "metadata": {
        "id": "DfdUsDj02eQO",
        "outputId": "8a49646e-2142-4226-86de-137eea07f614"
      },
      "outputs": [
        {
          "data": {
            "text/plain": [
              "array([[ 1, 10],\n",
              "       [ 2, 15],\n",
              "       [ 3, 20]])"
            ]
          },
          "execution_count": 93,
          "metadata": {},
          "output_type": "execute_result"
        }
      ],
      "source": [
        "np.c_[a, d]   #以列的维度创建堆叠数组"
      ]
    },
    {
      "cell_type": "markdown",
      "metadata": {
        "id": "SdN0usPP2eQO"
      },
      "source": [
        "### 分割数组"
      ]
    },
    {
      "cell_type": "code",
      "execution_count": null,
      "metadata": {
        "id": "EMOzIHlh2eQO",
        "outputId": "9d04fb70-e6b3-44a2-f0b7-bf5d4d302414"
      },
      "outputs": [
        {
          "data": {
            "text/plain": [
              "[array([1]), array([2]), array([3])]"
            ]
          },
          "execution_count": 94,
          "metadata": {},
          "output_type": "execute_result"
        }
      ],
      "source": [
        "np.hsplit(a, 3)   #纵向分割数组为3等份"
      ]
    },
    {
      "cell_type": "code",
      "execution_count": null,
      "metadata": {
        "id": "VUItMp9p2eQO",
        "outputId": "7d02be2c-5656-46ad-d0ad-23a7cbe36ac7"
      },
      "outputs": [
        {
          "data": {
            "text/plain": [
              "[array([[[1.5, 2. , 1. ],\n",
              "         [4. , 5. , 6. ]]]),\n",
              " array([[[3., 2., 3.],\n",
              "         [4., 5., 6.]]])]"
            ]
          },
          "execution_count": 95,
          "metadata": {},
          "output_type": "execute_result"
        }
      ],
      "source": [
        "np.vsplit(c,2)   #横向分割数组为2等份"
      ]
    },
    {
      "cell_type": "markdown",
      "metadata": {
        "id": "HNt9B9cx2eQO"
      },
      "source": [
        "## 调用帮助"
      ]
    },
    {
      "cell_type": "markdown",
      "metadata": {
        "id": "Nor_xKqd2eQO"
      },
      "source": [
        "**通过info函数调用帮助信息**"
      ]
    },
    {
      "cell_type": "code",
      "execution_count": null,
      "metadata": {
        "id": "OzeKpPqw2eQP",
        "outputId": "be7a8e72-69e3-4153-c194-32c02e6ab139"
      },
      "outputs": [
        {
          "name": "stdout",
          "output_type": "stream",
          "text": [
            "Data-type of the array's elements.\n",
            "\n",
            "Parameters\n",
            "----------\n",
            "None\n",
            "\n",
            "Returns\n",
            "-------\n",
            "d : numpy dtype object\n",
            "\n",
            "See Also\n",
            "--------\n",
            "numpy.dtype\n",
            "\n",
            "Examples\n",
            "--------\n",
            ">>> x\n",
            "array([[0, 1],\n",
            "       [2, 3]])\n",
            ">>> x.dtype\n",
            "dtype('int32')\n",
            ">>> type(x.dtype)\n",
            "<type 'numpy.dtype'>\n"
          ]
        }
      ],
      "source": [
        "np.info(np.ndarray.dtype)"
      ]
    }
  ],
  "metadata": {
    "kernelspec": {
      "display_name": "Python 3",
      "language": "python",
      "name": "python3"
    },
    "language_info": {
      "codemirror_mode": {
        "name": "ipython",
        "version": 3
      },
      "file_extension": ".py",
      "mimetype": "text/x-python",
      "name": "python",
      "nbconvert_exporter": "python",
      "pygments_lexer": "ipython3",
      "version": "3.7.7"
    },
    "toc": {
      "base_numbering": 1,
      "nav_menu": {},
      "number_sections": true,
      "sideBar": true,
      "skip_h1_title": false,
      "title_cell": "Table of Contents",
      "title_sidebar": "Contents",
      "toc_cell": false,
      "toc_position": {},
      "toc_section_display": true,
      "toc_window_display": true
    },
    "colab": {
      "provenance": [],
      "toc_visible": true
    }
  },
  "nbformat": 4,
  "nbformat_minor": 0
}